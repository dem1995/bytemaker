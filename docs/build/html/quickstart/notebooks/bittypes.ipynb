{
 "cells": [
  {
   "cell_type": "markdown",
   "metadata": {},
   "source": [
    "BitTypes\n",
    "============\n",
    "BitTypes is a package that exposes classes for working with C-style binary data\n",
    "in Python. BitTypes classes (e.g. UInt8, Int16, etc.) have two main attributes:\n",
    "`value` and `bits`.\n",
    "\n",
    "The `value` attribute is the pythonic value of what the binary data represents.\n",
    "For example, if the binary data is 0b00000001, the `value` attribute of a UInt8\n",
    "object would be 1.\n",
    "\n",
    "The `bits` attribute is the binary representation of the value. For example, if\n",
    "the value of a UInt8 object is 1, the `bits` attribute would be 0b00000001.\n",
    "\n",
    "Setting either the `value` or `bits` attribute will update the other attribute,\n",
    "as both are properties rather than fields."
   ]
  },
  {
   "cell_type": "code",
   "execution_count": 6,
   "metadata": {},
   "outputs": [],
   "source": [
    "from bytemaker.bittypes import (\n",
    "    Buffer32, Buffer8, SInt8, UInt8, UInt16, UInt32, Float16, Str32,\n",
    "    SInt, UInt, Float)"
   ]
  },
  {
   "cell_type": "markdown",
   "metadata": {},
   "source": [
    "## Construction\n",
    "BitTypes can be constructed in one of two ways: by bits, or by value.\n",
    "\n",
    "All BitTypes share a common constructor signature; that is,\n",
    "\n",
    "```python\n",
    "def __init__(\n",
    "    self,\n",
    "    source: Optional[(T | BitVector | BitType)] = None,\n",
    "    value: Optional[T] = None,\n",
    "    bits: Optional[BitVector] = None,\n",
    "    endianness: Literal[\"big\", \"little\", \"source_else_big\"] = \"source_else_big\",\n",
    ")\n",
    "```\n",
    "\n",
    "Where T is the pythonic value type that the BitType represents (e.g., int for SInt8/UInt8). If `source` is provided rather than `value` or `bits`, `__init__` will determine which of `value` or `bits` it corresponds to.\n",
    "\n",
    "If a BitType is provided as input, the constructed type will use `value` to determine what the appropriate type is. As such, `Str8(UInt8(5))` will be equivalent to `Str8(\"5\")`, not `Str8(bits=BitVector(\"00000101\"))`. To achieve the latter, you can do `Str8(bits=UInt8(5).bits)`.\n",
    "\n",
    "BitTypes do support endianness. This is set at object creation time--- to adjust it further, create a new BitType from the previous one, but with different endianness. The underlying BitVector is agnostic to what `endianness` is set to; it only becomes relevant when converting the BitType to a bytestream via `bytes()` or `bytearray()`"
   ]
  },
  {
   "cell_type": "code",
   "execution_count": 16,
   "metadata": {},
   "outputs": [
    {
     "name": "stdout",
     "output_type": "stream",
     "text": [
      "SInt8(32): SInt8[big](32 = 00100000)\n",
      "UInt8(SInt8(32)): UInt8[big](32 = 00100000)\n",
      "------------------------------\n",
      "Constructing one bittype from another's bits:\n",
      "UInt8(bits=SInt8(-32).bits): UInt8[big](224 = 11100000)\n",
      "------------------------------\n",
      "Showing endianness relevancy.\n",
      "Note the first two lines being the same and the next two being different\n",
      "Str32('Hiya'): Str32[big](Hiya = 01001000...01100001)\n",
      "Str32('Hiya', endianness='little'): Str32[little](Hiya = 01001000...01100001)\n",
      "bytes(Str32('Hiya')): b'Hiya'\n",
      "bytes(Str32('Hiya', endianness='little')): b'ayiH'\n"
     ]
    }
   ],
   "source": [
    "sint8_32 = SInt8(32)\n",
    "print(\"SInt8(32):\", sint8_32)\n",
    "uint8_32 = UInt8(SInt8(32))\n",
    "print(\"UInt8(SInt8(32)):\", uint8_32)\n",
    "print(\"------------------------------\")\n",
    "print(\"Constructing one bittype from another's bits:\")\n",
    "uint8_other = UInt8(bits=SInt8(-32).bits)\n",
    "print(\"UInt8(bits=SInt8(-32).bits):\", uint8_other)\n",
    "print(\"------------------------------\")\n",
    "print(\"Showing endianness relevancy.\")\n",
    "print(\"Note the first two lines being the same and the next two being different\")\n",
    "a_str32 = Str32(\"Hiya\")\n",
    "print(\"Str32('Hiya'):\", a_str32)\n",
    "a_str32_little = Str32(\"Hiya\", endianness=\"little\")\n",
    "print(\"Str32('Hiya', endianness='little'):\", a_str32_little)\n",
    "a_str32_bytes = bytes(a_str32)\n",
    "print(\"bytes(Str32('Hiya')):\", a_str32_bytes)\n",
    "a_str32_little_bytes = bytes(a_str32_little)\n",
    "print(\"bytes(Str32('Hiya', endianness='little')):\", a_str32_little_bytes)"
   ]
  },
  {
   "cell_type": "markdown",
   "metadata": {},
   "source": [
    "## Magic Methods\n",
    "All bittypes support typical bit-manipulation magic methods (`__lshift__`, `__rshift__`, `__and__`, `__rand__`, `__or__`, `__ror__`, `__xor__`, `__rxor__`, `__invert__`). Additionally, the numeric types support all operations you'd expect for int and float types."
   ]
  },
  {
   "cell_type": "code",
   "execution_count": 19,
   "metadata": {},
   "outputs": [
    {
     "name": "stdout",
     "output_type": "stream",
     "text": [
      "UInt32(0x12345678): UInt32[big](305419896 = 00010010...01111000)\n",
      "UInt32(0x12345678) <<1 (≈ **2): UInt32[big](610839792 = 00100100...11110000)\n",
      "Buffer32(\"0xFEFEFEFE\") & Buffer32(\"0x88888888\"): Buffer32[big](BitVector('10001000 10001000 10001000 10001000') = 10001000...10001000)\n",
      "------------------------------\n",
      "XOR swap algorithm using Bytemaker:\n",
      "a = UInt8(0x12): UInt8[big](18 = 00010010)\n",
      "b = UInt8(0x34): UInt8[big](52 = 00110100)\n",
      "UInt8(0x12) ^= UInt8(0x34): ('a=UInt8[big](38 = 00100110)', 'b=UInt8[big](52 = 00110100)')\n",
      "UInt8(0x34) ^= UInt8(0x12): ('a=UInt8[big](38 = 00100110)', 'b=UInt8[big](18 = 00010010)')\n",
      "UInt8(0x12) ^= UInt8(0x34): ('a=UInt8[big](52 = 00110100)', 'b=UInt8[big](18 = 00010010)')\n",
      "a == UInt8(0x34): UInt8[big](52 = 00110100)\n",
      "b == UInt8(0x12): UInt8[big](18 = 00010010)\n",
      "------------------------------\n"
     ]
    }
   ],
   "source": [
    "a_uint32 = UInt32(0x12345678)\n",
    "print(\"UInt32(0x12345678):\", a_uint32)\n",
    "a_uint32_shifted = a_uint32 << 1\n",
    "print(\"UInt32(0x12345678) <<1 (≈ **2):\", a_uint32_shifted)\n",
    "print('Buffer32(\"0xFEFEFEFE\") & Buffer32(\"0x88888888\"):', Buffer32(\"0xFEFEFEFE\") & Buffer32(\"0x88888888\"))\n",
    "print(\"------------------------------\")\n",
    "print(\"XOR swap algorithm using Bytemaker:\")\n",
    "a_uint8_1 = UInt8(0x12)\n",
    "a_uint8_2 = UInt8(0x34)\n",
    "print(\"a = UInt8(0x12):\", a_uint8_1)\n",
    "print(\"b = UInt8(0x34):\", a_uint8_2)\n",
    "a_uint8_1 ^= a_uint8_2\n",
    "print(\"UInt8(0x12) ^= UInt8(0x34):\", (\"a=\" + str(a_uint8_1), \"b=\" + str(a_uint8_2)))\n",
    "a_uint8_2 ^= a_uint8_1\n",
    "print(\"UInt8(0x34) ^= UInt8(0x12):\", (\"a=\" + str(a_uint8_1), \"b=\" + str(a_uint8_2)))\n",
    "a_uint8_1 ^= a_uint8_2\n",
    "print(\"UInt8(0x12) ^= UInt8(0x34):\", (\"a=\" + str(a_uint8_1), \"b=\" + str(a_uint8_2)))\n",
    "print(\"a == UInt8(0x34):\", a_uint8_1)\n",
    "print(\"b == UInt8(0x12):\", a_uint8_2)\n",
    "print(\"------------------------------\")\n"
   ]
  },
  {
   "cell_type": "code",
   "execution_count": null,
   "metadata": {},
   "outputs": [],
   "source": [
    "a_float16 = Float16(3.14159)\n",
    "a_uint16 = UInt16(0x12)\n",
    "\n",
    "print()"
   ]
  }
 ],
 "metadata": {
  "kernelspec": {
   "display_name": "py312",
   "language": "python",
   "name": "python3"
  },
  "language_info": {
   "codemirror_mode": {
    "name": "ipython",
    "version": 3
   },
   "file_extension": ".py",
   "mimetype": "text/x-python",
   "name": "python",
   "nbconvert_exporter": "python",
   "pygments_lexer": "ipython3",
   "version": "3.12.4"
  }
 },
 "nbformat": 4,
 "nbformat_minor": 2
}
